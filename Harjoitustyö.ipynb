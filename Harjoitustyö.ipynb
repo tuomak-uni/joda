{
 "nbformat": 4,
 "nbformat_minor": 2,
 "metadata": {
  "language_info": {
   "name": "python",
   "codemirror_mode": {
    "name": "ipython",
    "version": 3
   },
   "version": "3.8.2-final"
  },
  "orig_nbformat": 2,
  "file_extension": ".py",
  "mimetype": "text/x-python",
  "name": "python",
  "npconvert_exporter": "python",
  "pygments_lexer": "ipython3",
  "version": 3,
  "kernelspec": {
   "name": "python38264bitjodacondad8fe37f256194410a5734912d87ef784",
   "display_name": "Python 3.8.2 64-bit ('joda': conda)"
  }
 },
 "cells": [
  {
   "cell_type": "code",
   "execution_count": 2,
   "metadata": {},
   "outputs": [
    {
     "output_type": "stream",
     "name": "stdout",
     "text": "Done importing.\n"
    }
   ],
   "source": [
    "import pandas as pd\n",
    "import urllib, json\n",
    "print('Done importing.')"
   ]
  },
  {
   "cell_type": "code",
   "execution_count": null,
   "metadata": {
    "tags": [
     "outputPrepend"
    ]
   },
   "outputs": [],
   "source": [
    "url = 'https://data.tampere.fi/data/api/action/datastore_search?resource_id=3b76ce4c-afe2-400b-87b8-7fdec2d3f537&limit=55000'\n",
    "with urllib.request.urlopen(url) as url:\n",
    "    j_obj = url.read()\n",
    "parsed = json.loads(j_obj)\n",
    "if not parsed['success']:\n",
    "    df = pd.read_csv('./data/data.csv')\n",
    "    print('Using local data.')\n",
    "else:\n",
    "    df = pd.DataFrame(parsed['result']['records'])\n",
    "    print('Using API data.')"
   ]
  },
  {
   "cell_type": "markdown",
   "metadata": {
    "tags": [
     "outputPrepend"
    ]
   },
   "source": [
    "### asdasd"
   ]
  },
  {
   "cell_type": "code",
   "execution_count": 11,
   "metadata": {},
   "outputs": [
    {
     "output_type": "execute_result",
     "data": {
      "text/plain": "                _id    KC_KIITUNN     KC_RAKNRO     I_PYRAKNRO    I_KERROSALA  \\\ncount  53275.000000  5.327500e+04  51098.000000   53275.000000   31931.000000   \nmean   26638.000000  3.068093e+10      5.721770   39568.258489     566.841439   \nstd    15379.312132  2.541682e+10     23.271388   35167.502549    2063.575590   \nmin        1.000000  1.480100e+08      0.000000       1.000000       0.000000   \n25%    13319.500000  6.571645e+09      1.000000   15447.500000      95.000000   \n50%    26638.000000  2.333017e+10      2.000000   30707.000000     166.000000   \n75%    39956.500000  5.840003e+10      3.000000   45968.500000     306.000000   \nmax    53275.000000  9.020904e+10    403.000000  128010.000000  203698.000000   \n\n          I_KERRLKM     I_RAKTILAV  HUONEISTOJA_KPL  \ncount  32534.000000   22325.000000     24372.000000  \nmean       1.699975    2841.103695         5.792631  \nstd        1.308128   13572.875307        13.521334  \nmin        0.000000       0.000000         1.000000  \n25%        1.000000     270.000000         1.000000  \n50%        1.000000     620.000000         1.000000  \n75%        2.000000    1250.000000         4.000000  \nmax       25.000000  992195.000000       528.000000  ",
      "text/html": "<div>\n<style scoped>\n    .dataframe tbody tr th:only-of-type {\n        vertical-align: middle;\n    }\n\n    .dataframe tbody tr th {\n        vertical-align: top;\n    }\n\n    .dataframe thead th {\n        text-align: right;\n    }\n</style>\n<table border=\"1\" class=\"dataframe\">\n  <thead>\n    <tr style=\"text-align: right;\">\n      <th></th>\n      <th>_id</th>\n      <th>KC_KIITUNN</th>\n      <th>KC_RAKNRO</th>\n      <th>I_PYRAKNRO</th>\n      <th>I_KERROSALA</th>\n      <th>I_KERRLKM</th>\n      <th>I_RAKTILAV</th>\n      <th>HUONEISTOJA_KPL</th>\n    </tr>\n  </thead>\n  <tbody>\n    <tr>\n      <th>count</th>\n      <td>53275.000000</td>\n      <td>5.327500e+04</td>\n      <td>51098.000000</td>\n      <td>53275.000000</td>\n      <td>31931.000000</td>\n      <td>32534.000000</td>\n      <td>22325.000000</td>\n      <td>24372.000000</td>\n    </tr>\n    <tr>\n      <th>mean</th>\n      <td>26638.000000</td>\n      <td>3.068093e+10</td>\n      <td>5.721770</td>\n      <td>39568.258489</td>\n      <td>566.841439</td>\n      <td>1.699975</td>\n      <td>2841.103695</td>\n      <td>5.792631</td>\n    </tr>\n    <tr>\n      <th>std</th>\n      <td>15379.312132</td>\n      <td>2.541682e+10</td>\n      <td>23.271388</td>\n      <td>35167.502549</td>\n      <td>2063.575590</td>\n      <td>1.308128</td>\n      <td>13572.875307</td>\n      <td>13.521334</td>\n    </tr>\n    <tr>\n      <th>min</th>\n      <td>1.000000</td>\n      <td>1.480100e+08</td>\n      <td>0.000000</td>\n      <td>1.000000</td>\n      <td>0.000000</td>\n      <td>0.000000</td>\n      <td>0.000000</td>\n      <td>1.000000</td>\n    </tr>\n    <tr>\n      <th>25%</th>\n      <td>13319.500000</td>\n      <td>6.571645e+09</td>\n      <td>1.000000</td>\n      <td>15447.500000</td>\n      <td>95.000000</td>\n      <td>1.000000</td>\n      <td>270.000000</td>\n      <td>1.000000</td>\n    </tr>\n    <tr>\n      <th>50%</th>\n      <td>26638.000000</td>\n      <td>2.333017e+10</td>\n      <td>2.000000</td>\n      <td>30707.000000</td>\n      <td>166.000000</td>\n      <td>1.000000</td>\n      <td>620.000000</td>\n      <td>1.000000</td>\n    </tr>\n    <tr>\n      <th>75%</th>\n      <td>39956.500000</td>\n      <td>5.840003e+10</td>\n      <td>3.000000</td>\n      <td>45968.500000</td>\n      <td>306.000000</td>\n      <td>2.000000</td>\n      <td>1250.000000</td>\n      <td>4.000000</td>\n    </tr>\n    <tr>\n      <th>max</th>\n      <td>53275.000000</td>\n      <td>9.020904e+10</td>\n      <td>403.000000</td>\n      <td>128010.000000</td>\n      <td>203698.000000</td>\n      <td>25.000000</td>\n      <td>992195.000000</td>\n      <td>528.000000</td>\n    </tr>\n  </tbody>\n</table>\n</div>"
     },
     "metadata": {},
     "execution_count": 11
    }
   ],
   "source": [
    "df.describe()"
   ]
  },
  {
   "cell_type": "code",
   "execution_count": 13,
   "metadata": {},
   "outputs": [
    {
     "output_type": "execute_result",
     "data": {
      "text/plain": "                _id    KC_KIITUNN     KC_RAKNRO     I_PYRAKNRO    I_KERROSALA  \\\ncount  53275.000000  5.327500e+04  51098.000000   53275.000000   31931.000000   \nmean   26638.000000  3.068093e+10      5.721770   39568.258489     566.841439   \nstd    15379.312132  2.541682e+10     23.271388   35167.502549    2063.575590   \nmin        1.000000  1.480100e+08      0.000000       1.000000       0.000000   \n25%    13319.500000  6.571645e+09      1.000000   15447.500000      95.000000   \n50%    26638.000000  2.333017e+10      2.000000   30707.000000     166.000000   \n75%    39956.500000  5.840003e+10      3.000000   45968.500000     306.000000   \nmax    53275.000000  9.020904e+10    403.000000  128010.000000  203698.000000   \n\n          I_KERRLKM     I_RAKTILAV  HUONEISTOJA_KPL  \ncount  32534.000000   22325.000000     24372.000000  \nmean       1.699975    2841.103695         5.792631  \nstd        1.308128   13572.875307        13.521334  \nmin        0.000000       0.000000         1.000000  \n25%        1.000000     270.000000         1.000000  \n50%        1.000000     620.000000         1.000000  \n75%        2.000000    1250.000000         4.000000  \nmax       25.000000  992195.000000       528.000000  ",
      "text/html": "<div>\n<style scoped>\n    .dataframe tbody tr th:only-of-type {\n        vertical-align: middle;\n    }\n\n    .dataframe tbody tr th {\n        vertical-align: top;\n    }\n\n    .dataframe thead th {\n        text-align: right;\n    }\n</style>\n<table border=\"1\" class=\"dataframe\">\n  <thead>\n    <tr style=\"text-align: right;\">\n      <th></th>\n      <th>_id</th>\n      <th>KC_KIITUNN</th>\n      <th>KC_RAKNRO</th>\n      <th>I_PYRAKNRO</th>\n      <th>I_KERROSALA</th>\n      <th>I_KERRLKM</th>\n      <th>I_RAKTILAV</th>\n      <th>HUONEISTOJA_KPL</th>\n    </tr>\n  </thead>\n  <tbody>\n    <tr>\n      <th>count</th>\n      <td>53275.000000</td>\n      <td>5.327500e+04</td>\n      <td>51098.000000</td>\n      <td>53275.000000</td>\n      <td>31931.000000</td>\n      <td>32534.000000</td>\n      <td>22325.000000</td>\n      <td>24372.000000</td>\n    </tr>\n    <tr>\n      <th>mean</th>\n      <td>26638.000000</td>\n      <td>3.068093e+10</td>\n      <td>5.721770</td>\n      <td>39568.258489</td>\n      <td>566.841439</td>\n      <td>1.699975</td>\n      <td>2841.103695</td>\n      <td>5.792631</td>\n    </tr>\n    <tr>\n      <th>std</th>\n      <td>15379.312132</td>\n      <td>2.541682e+10</td>\n      <td>23.271388</td>\n      <td>35167.502549</td>\n      <td>2063.575590</td>\n      <td>1.308128</td>\n      <td>13572.875307</td>\n      <td>13.521334</td>\n    </tr>\n    <tr>\n      <th>min</th>\n      <td>1.000000</td>\n      <td>1.480100e+08</td>\n      <td>0.000000</td>\n      <td>1.000000</td>\n      <td>0.000000</td>\n      <td>0.000000</td>\n      <td>0.000000</td>\n      <td>1.000000</td>\n    </tr>\n    <tr>\n      <th>25%</th>\n      <td>13319.500000</td>\n      <td>6.571645e+09</td>\n      <td>1.000000</td>\n      <td>15447.500000</td>\n      <td>95.000000</td>\n      <td>1.000000</td>\n      <td>270.000000</td>\n      <td>1.000000</td>\n    </tr>\n    <tr>\n      <th>50%</th>\n      <td>26638.000000</td>\n      <td>2.333017e+10</td>\n      <td>2.000000</td>\n      <td>30707.000000</td>\n      <td>166.000000</td>\n      <td>1.000000</td>\n      <td>620.000000</td>\n      <td>1.000000</td>\n    </tr>\n    <tr>\n      <th>75%</th>\n      <td>39956.500000</td>\n      <td>5.840003e+10</td>\n      <td>3.000000</td>\n      <td>45968.500000</td>\n      <td>306.000000</td>\n      <td>2.000000</td>\n      <td>1250.000000</td>\n      <td>4.000000</td>\n    </tr>\n    <tr>\n      <th>max</th>\n      <td>53275.000000</td>\n      <td>9.020904e+10</td>\n      <td>403.000000</td>\n      <td>128010.000000</td>\n      <td>203698.000000</td>\n      <td>25.000000</td>\n      <td>992195.000000</td>\n      <td>528.000000</td>\n    </tr>\n  </tbody>\n</table>\n</div>"
     },
     "metadata": {},
     "execution_count": 13
    }
   ],
   "source": [
    "df2.describe()"
   ]
  },
  {
   "cell_type": "code",
   "execution_count": null,
   "metadata": {},
   "outputs": [],
   "source": []
  }
 ]
}